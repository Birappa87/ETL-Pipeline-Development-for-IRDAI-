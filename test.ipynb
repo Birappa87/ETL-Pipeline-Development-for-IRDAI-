{
 "cells": [
  {
   "cell_type": "code",
   "execution_count": 2,
   "metadata": {},
   "outputs": [],
   "source": [
    "import mysql.connector"
   ]
  },
  {
   "cell_type": "code",
   "execution_count": 3,
   "metadata": {},
   "outputs": [],
   "source": [
    "# MySQL database connection parameters\n",
    "host = 'effybiz'\n",
    "database = 'amfi_data'\n",
    "user = 'amfi_user'\n",
    "password = 'BxH#X=eG[6r4s37h'\n"
   ]
  },
  {
   "cell_type": "code",
   "execution_count": 7,
   "metadata": {},
   "outputs": [
    {
     "name": "stdout",
     "output_type": "stream",
     "text": [
      "Error connecting to MySQL database: 1045 (28000): Access denied for user 'amfi_user'@'localhost' (using password: YES)\n"
     ]
    }
   ],
   "source": [
    "try:\n",
    "    db=mysql.connector.connect(\n",
    "        host=\"localhost\",\n",
    "        port=\"3306\",\n",
    "        user=user,\n",
    "        passwd=password,\n",
    "        database=database\n",
    "        )\n",
    "    if db.is_connected():\n",
    "        print(\"Connected to MySQL database\")\n",
    "except mysql.connector.Error as e:\n",
    "    print(\"Error connecting to MySQL database:\", e)"
   ]
  },
  {
   "cell_type": "code",
   "execution_count": 1,
   "metadata": {},
   "outputs": [
    {
     "name": "stdout",
     "output_type": "stream",
     "text": [
      "^C\n",
      "Note: you may need to restart the kernel to use updated packages.\n"
     ]
    }
   ],
   "source": [
    "pip uninstall mysql-connector"
   ]
  },
  {
   "cell_type": "code",
   "execution_count": null,
   "metadata": {},
   "outputs": [],
   "source": []
  }
 ],
 "metadata": {
  "kernelspec": {
   "display_name": "venv",
   "language": "python",
   "name": "python3"
  },
  "language_info": {
   "codemirror_mode": {
    "name": "ipython",
    "version": 3
   },
   "file_extension": ".py",
   "mimetype": "text/x-python",
   "name": "python",
   "nbconvert_exporter": "python",
   "pygments_lexer": "ipython3",
   "version": "3.9.16"
  }
 },
 "nbformat": 4,
 "nbformat_minor": 2
}
